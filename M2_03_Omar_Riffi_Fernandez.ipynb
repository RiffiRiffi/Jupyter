{
 "cells": [
  {
   "cell_type": "markdown",
   "metadata": {},
   "source": [
    "# Ejercicios Modulo 2. Entrada y salida de datos\n",
    "\n",
    "Consideraciones a tener en cuenta: \n",
    "\n",
    "* Guardar este documento con el siguiente formato para su entrega: __M2_03_nombre_apellido1_apellido2__\n",
    "* Realizar los ejercicios con las herramientas vistas en las sesiones. Aún no hemos llegado a condicionales ni bucles\n",
    "* Comentar el código\n",
    "* Utilizar nombres de variables apropiados, si vais a guardar una nota, llamar a esa variable nota, no n o x"
   ]
  },
  {
   "cell_type": "markdown",
   "metadata": {},
   "source": [
    "## Ejercicios de entrada y salida"
   ]
  },
  {
   "cell_type": "markdown",
   "metadata": {},
   "source": [
    "**1) Utiliza el método input() para realizar las siguientes tareas:**\n",
    "\n",
    "* Pide un número por teclado, muestra el resultado y su tipo (para conocer en que tipo de dato captura la información input())\n",
    "* Pide un número por teclado y asegurate de que capturemos la información en formato int\n",
    "* Pide un número por teclado y asegurate de que capturemos la información en formato float\n",
    "\n",
    "__Comprobar con type que los datos son del tipo correcto__"
   ]
  },
  {
   "cell_type": "code",
   "execution_count": 1,
   "metadata": {},
   "outputs": [
    {
     "name": "stdout",
     "output_type": "stream",
     "text": [
      "Introduce un numero: 20\n",
      "<class 'str'>\n",
      "Introduce un numero: 30\n",
      "<class 'int'>\n",
      "Introduce un numero: 5\n",
      "<class 'float'>\n"
     ]
    }
   ],
   "source": [
    "#Pedimos un numero entero y lo mostramos por print\n",
    "numero1 = input(\"Introduce un numero: \")\n",
    "print(type(numero1))\n",
    "\n",
    "#Pedimos un numero per lo guardamos directamente en INT\n",
    "numero2 = int(input(\"Introduce un numero: \"))\n",
    "print(type(numero2))\n",
    "\n",
    "#Pedimos un numero y lo guardamos como FLOAT directamente\n",
    "numero3 = float(input(\"Introduce un numero: \"))\n",
    "print(type(numero3))"
   ]
  },
  {
   "cell_type": "markdown",
   "metadata": {},
   "source": [
    "**2) Vamos a formatear números:**\n",
    "\n",
    "* Pide un numero entero por teclado\n",
    "* Muéstralo con el formato de 5 dígitos rellenos con 0s por delante\n",
    "* Pide un número flotante por teclado\n",
    "* Muéstralo con 5 dígitos para la parte entera y 3 dígitos para la parte decimal"
   ]
  },
  {
   "cell_type": "code",
   "execution_count": null,
   "metadata": {},
   "outputs": [
    {
     "name": "stdout",
     "output_type": "stream",
     "text": [
      "Introduce un numero entero: 876543875638475894367948376\n",
      "876543875638475894367948376\n"
     ]
    }
   ],
   "source": [
    "#Pedimos el numero entero\n",
    "numeroEntero = int(input(\"Introduce un numero entero: \"))\n",
    "\n",
    "#Formato de 5 digitos\n",
    "print(\"{:05d}\".format(numeroEntero))\n",
    "\n",
    "#Pedimos un FLOAT\n",
    "numeroFloat = float(input(\"Introduce un numero decimal: \"))\n",
    "\n",
    "#Formato de 5 x 3\n",
    "print(\"{:05.3f}\".format(numeroFloat))"
   ]
  },
  {
   "cell_type": "markdown",
   "metadata": {},
   "source": [
    "**3) Vamos a ponernos creativos. ¿Cuántas formas tienes de mostrar esta información?**<bR>\n",
    "<code>La altura es de 1,80 metros y el peso es de 80,135 KG</code>\n",
    "    \n",
    "Siendo la altura y el peso dos variables que se recojan con 2 inputs\n",
    "    \n",
    "__Pista: format() se puede usar de varias formas__"
   ]
  },
  {
   "cell_type": "code",
   "execution_count": null,
   "metadata": {},
   "outputs": [],
   "source": [
    "#Recojemos las variables\n",
    "altura = float(input(\"Cual es la altura?\"))\n",
    "peso = float(input(\"Cual es el peso?\"))\n",
    "\n",
    "#Lo imprimimos directamente\n",
    "print(\"La altura es de\", altura,\"metros y el peso es de\",peso,\"KG\")\n",
    "\n",
    "#Lo imprimimos con llaves vacias, siempre que esten en el orden correcto\n",
    "print(\"La altura es de {} metros y el peso es de {} KG\".format(altura, peso))\n",
    "\n",
    "#Marcando el orden de las variables dentro de las llaves\n",
    "print(\"La altura es de {1} metros y el peso es de {0} KG\".format(peso, altura))\n",
    "\n",
    "#O utilizando llaves con claves\n",
    "print(\"La altura es de {a} metros y el peso es de {p} KG\".format(p=peso, a=altura))\n",
    "\n",
    "#Creo que no me olvido ninguna..."
   ]
  }
 ],
 "metadata": {
  "anaconda-cloud": {},
  "kernelspec": {
   "display_name": "Python 3 (ipykernel)",
   "language": "python",
   "name": "python3"
  },
  "language_info": {
   "codemirror_mode": {
    "name": "ipython",
    "version": 3
   },
   "file_extension": ".py",
   "mimetype": "text/x-python",
   "name": "python",
   "nbconvert_exporter": "python",
   "pygments_lexer": "ipython3",
   "version": "3.9.7"
  }
 },
 "nbformat": 4,
 "nbformat_minor": 1
}
